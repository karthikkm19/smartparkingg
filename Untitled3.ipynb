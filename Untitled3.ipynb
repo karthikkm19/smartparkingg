{
 "cells": [
  {
   "cell_type": "code",
   "execution_count": 1,
   "id": "c00dc484",
   "metadata": {},
   "outputs": [
    {
     "name": "stdout",
     "output_type": "stream",
     "text": [
      "c\n",
      "b\n",
      "a\n"
     ]
    }
   ],
   "source": [
    "List = [1, 2, 'a', 4, 'b', 6, 'c']\n",
    "print(List[-1]) # prints c\n",
    "print(List[-3]) # prints b\n",
    "print(List[-5]) # prints a"
   ]
  },
  {
   "cell_type": "code",
   "execution_count": 2,
   "id": "d4554740",
   "metadata": {},
   "outputs": [
    {
     "name": "stdout",
     "output_type": "stream",
     "text": [
      "Initial List: \n",
      "[1, 2, 3, 4, 5, 6, 7]\n",
      "\n",
      "List after Removal of two elements: \n",
      "[1, 2, 3, 4, 7]\n"
     ]
    }
   ],
   "source": [
    "List = [1, 2, 3, 4, 5, 6, 7]\n",
    "print(\"Initial List: \")\n",
    "print(List)\n",
    "# Removing elements from List using remove() method\n",
    "List.remove(5)\n",
    "List.remove(6)\n",
    "print(\"\\nList after Removal of two elements: \")\n",
    "print(List)"
   ]
  },
  {
   "cell_type": "code",
   "execution_count": 13,
   "id": "d155384a",
   "metadata": {},
   "outputs": [
    {
     "name": "stdout",
     "output_type": "stream",
     "text": [
      "\n",
      "List after Removing a range of elements: \n",
      "[5, 6, 7, 8, 9]\n"
     ]
    }
   ],
   "source": [
    "List=[1,2,3,4,5,6,7,8,9]\n",
    "for i in range(1,5):\n",
    "    List.remove(i)\n",
    "    i=i+\n",
    "print(\"\\nList after Removing a range of elements: \")\n",
    "print(List)"
   ]
  },
  {
   "cell_type": "code",
   "execution_count": 14,
   "id": "070e5775",
   "metadata": {},
   "outputs": [
    {
     "name": "stdout",
     "output_type": "stream",
     "text": [
      "['M', 'O', 'R', 'N', 'I', 'N', 'G']\n"
     ]
    }
   ],
   "source": [
    "list1=list(\"MORNING\")\n",
    "print(list1)"
   ]
  },
  {
   "cell_type": "code",
   "execution_count": 18,
   "id": "944731d5",
   "metadata": {},
   "outputs": [
    {
     "name": "stdout",
     "output_type": "stream",
     "text": [
      "Initial blank List: \n",
      "[]\n",
      "\n",
      "List after Addition of Three elements: \n",
      "[10]\n"
     ]
    }
   ],
   "source": [
    "List_new = []\n",
    "print(\"Initial blank List: \")\n",
    "print(List_new)\n",
    "\n",
    "# Addition of Elements\n",
    "\n",
    "List_new.append(10)\n",
    "print(\"\\nList after Addition of Three elements: \")\n",
    "print(List_new)"
   ]
  },
  {
   "cell_type": "code",
   "execution_count": null,
   "id": "1250e940",
   "metadata": {},
   "outputs": [],
   "source": []
  }
 ],
 "metadata": {
  "kernelspec": {
   "display_name": "Python 3 (ipykernel)",
   "language": "python",
   "name": "python3"
  },
  "language_info": {
   "codemirror_mode": {
    "name": "ipython",
    "version": 3
   },
   "file_extension": ".py",
   "mimetype": "text/x-python",
   "name": "python",
   "nbconvert_exporter": "python",
   "pygments_lexer": "ipython3",
   "version": "3.11.5"
  }
 },
 "nbformat": 4,
 "nbformat_minor": 5
}
